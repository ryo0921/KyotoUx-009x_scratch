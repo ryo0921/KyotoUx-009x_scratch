{
 "cells": [
  {
   "cell_type": "markdown",
   "metadata": {},
   "source": [
    "# Problems for Week 3 (8 Points)"
   ]
  },
  {
   "cell_type": "markdown",
   "metadata": {},
   "source": [
    "# Part 1"
   ]
  },
  {
   "cell_type": "markdown",
   "metadata": {},
   "source": [
    "### Problem 1 (Point 1)\n",
    "\n",
    "Choose the correct combination for the graphs of the spectral density $S_Y(\\omega)$ and the auto-correlation function $\\varphi_Y(t)$ for a dynamic process $Y(t)=\\cos(\\omega_1 t)$.\n",
    "\n",
    "##### 1 ![](fig/03/G1.png)\n",
    "\n",
    "##### 2 ![](fig/03/G2.png)"
   ]
  },
  {
   "cell_type": "markdown",
   "metadata": {},
   "source": [
    "##### 3 ![](fig/03/G3.png)\n",
    "\n",
    "##### 4 ![](fig/03/G4.png)"
   ]
  },
  {
   "cell_type": "markdown",
   "metadata": {},
   "source": [
    "### Answer 1\n",
    "\n",
    "##### 2"
   ]
  },
  {
   "cell_type": "markdown",
   "metadata": {},
   "source": [
    "### Problem 2 (Point 1)\n",
    "\n",
    "Choose the correct combination for the graphs of the spectral density $S_Y(\\omega)$ and the auto-correlation function $\\varphi_Y(t)$ for a dynamic process $Y(t)=\\xi(t)$, where $\\xi(t)$ is the White noise introduced in Part 1. \n",
    "\n",
    "##### 1 ![](fig/03/G1.png)\n",
    "\n",
    "##### 2 ![](fig/03/G2.png)"
   ]
  },
  {
   "cell_type": "markdown",
   "metadata": {},
   "source": [
    "##### 3 ![](fig/03/G3.png)\n",
    "\n",
    "##### 4 ![](fig/03/G4.png)"
   ]
  },
  {
   "cell_type": "markdown",
   "metadata": {},
   "source": [
    "### Answer 2\n",
    "\n",
    "###### 3"
   ]
  },
  {
   "cell_type": "markdown",
   "metadata": {},
   "source": [
    "# Part 2"
   ]
  },
  {
   "cell_type": "markdown",
   "metadata": {},
   "source": [
    "### Problem 3 (Point 2)\n",
    "\n",
    "Consider the Langevin equation (Eq.(21)) in the overdamped limit $({m\\rightarrow 0})$. Calculate the power spectrum of the particle velocity $S_V(\\omega)$ and choose the correct result from the following choices.\n",
    "\n",
    "##### 1 $$S_V(\\omega)=6\\tilde{D}$$\n",
    "\n",
    "\n",
    "##### 2 $$S_V(\\omega)=\\frac{6\\tilde{D}}{\\zeta^2}$$\n",
    "\n",
    "\n",
    "##### 3 $$S_V(\\omega)=\\frac{6\\tilde{D}}{\\omega^2+\\zeta^2}$$\n",
    "\n",
    "\n",
    "##### 4 $$S_V(\\omega)=6\\tilde{D}\\delta(t)$$\n",
    "\n",
    "\n",
    "##### 5 $$S_V(\\omega)=\\frac{6\\tilde{D}}{\\zeta^2}\\delta(t)$$\n",
    "\n",
    "\n",
    "##### 6 $$S_V(\\omega)=\\frac{6\\tilde{D}}{\\omega^2+\\zeta^2}\\delta(t)$$"
   ]
  },
  {
   "cell_type": "markdown",
   "metadata": {},
   "source": [
    "### Answer 3\n",
    "\n",
    "##### 2\n",
    "\n",
    "##### Solution\n",
    "\n",
    "Substitution of $m=0$ in Eq.(21) yields $\\bf{V}=\\bf{F}/\\zeta$\n",
    "$$\\therefore\\ \\ \\ \\ S_V(\\omega)=\\frac{S_F(\\omega)}{\\zeta^2}=\\frac{6\\tilde{D}}{\\zeta^2}$$"
   ]
  },
  {
   "cell_type": "markdown",
   "metadata": {},
   "source": [
    "### Problem 4 (Point 2)\n",
    "\n",
    "Consider the Langevin equation (Eq.(21)) in the overdamped limit $({m\\rightarrow 0})$. Calculate the velocity auto-correlation function $\\varphi_V(t)$ and choose the correct result from the following choices.\n",
    "\n",
    "##### 1 $$\\varphi_V(t)=\\frac{3\\tilde {D}}{\\zeta^2}$$\n",
    "\n",
    "\n",
    "##### 2 $$\\varphi_V(t)=\\frac{6\\tilde {D}}{\\zeta^2}$$\n",
    "\n",
    "\n",
    "##### 3 $$\\varphi_V(t)=\\frac{3\\tilde {D}}{\\zeta m}$$\n",
    "\n",
    "\n",
    "##### 4 $$\\varphi_V(t)=\\frac{3\\tilde {D}}{\\zeta^2}\\delta(t)$$\n",
    "\n",
    "\n",
    "##### 5 $$\\varphi_V(t)=\\frac{6\\tilde {D}}{\\zeta^2}\\delta(t)$$\n",
    "\n",
    "\n",
    "##### 6 $$\\varphi_V(t)=\\frac{3\\tilde {D}}{\\zeta m}\\delta(t)$$\n"
   ]
  },
  {
   "cell_type": "markdown",
   "metadata": {},
   "source": [
    "### Answer 4\n",
    "\n",
    "##### 5\n",
    "\n",
    "##### Solution\n",
    "\n",
    "Substitution of $m=0$ in Eq.(21) yields $\\bf{V}=\\bf{F}/\\zeta$\n",
    "$$\\therefore\\ \\ \\ \\ \\varphi_V(t)=\\frac{\\varphi_F(t)}{\\zeta^2}=\\frac{6\\tilde{D}}{\\zeta^2}\\delta(t)$$"
   ]
  },
  {
   "cell_type": "markdown",
   "metadata": {},
   "source": [
    "# Part 3"
   ]
  },
  {
   "cell_type": "markdown",
   "metadata": {},
   "source": [
    "### Problem 5 (Point 2)\n",
    "\n",
    "Calculate the right-hand-side of Eq.(47) using the velocity auto-correlation function obtained via Problem 3 of Part 2, where the overdamped limit $({m\\rightarrow 0})$ is considered. Choose the correct result from the following choices.\n",
    "\n",
    "$$D=\\frac{1}{3}\\int_0^\\infty \\text{d}t\\ \\varphi_V(t) \\tag{47}$$\n",
    "\n",
    "##### 1 $$\\tilde{D}$$\n",
    "\n",
    "\n",
    "##### 2 $$6\\tilde{D}t$$\n",
    "\n",
    "\n",
    "##### 3 $$\\frac{\\tilde{D}}{k_B T\\zeta}$$\n",
    "\n",
    "\n",
    "##### 4 $$\\frac{m\\tilde{D}}{\\zeta}$$\n",
    "\n",
    "\n",
    "##### 5 $$\\frac{\\tilde{D}}{\\zeta^2}$$"
   ]
  },
  {
   "cell_type": "markdown",
   "metadata": {},
   "source": [
    "### Answer 5\n",
    "\n",
    "##### 5\n",
    "\n",
    "##### Solution\n",
    "\n",
    "$$\n",
    "D=\\frac{1}{3}\\int_0^\\infty \\text{d}t\\ \\varphi_V(t)=\\frac{1}{3}\\int_0^\\infty \\text{d}t\\ \\frac{6\\tilde{D}}{\\zeta^2}\\delta(t)=\\frac{1}{6}\\int_{-\\infty}^\\infty \\text{d}t\\ \\frac{6\\tilde{D}}{\\zeta^2}\\delta(t)=\\frac{\\tilde{D}}{\\zeta^2}\n",
    "$$\n"
   ]
  },
  {
   "cell_type": "markdown",
   "metadata": {},
   "source": [
    "# Homework for Week 3 (6 Points)"
   ]
  },
  {
   "cell_type": "markdown",
   "metadata": {},
   "source": [
    "### Homework 1 (1 Point)\n",
    "\n",
    "Calculate the auto-correlation function $\\varphi_Y(t)$ for a dynamic process $Y(t)=A\\sin(\\omega_1 t+\\pi)$. Choose the correct answer from the following choices.\n",
    "\n",
    "##### 1 $$\\varphi_Y(t)=\\frac{A^2}{2}\\cos(\\omega_1 t)$$\n",
    "\n",
    "\n",
    "##### 2 $$\\varphi_Y(t)=\\frac{A^2}{2}\\sin(\\omega_1 t)$$\n",
    "\n",
    "\n",
    "##### 3 $$\\varphi_Y(t)=\\frac{A^2}{2}\\cos(\\omega_1 t + \\pi)$$\n",
    "\n",
    "\n",
    "##### 4 $$\\varphi_Y(t)=\\frac{A^2}{2}\\sin(\\omega_1 t + \\pi)$$\n"
   ]
  },
  {
   "cell_type": "markdown",
   "metadata": {},
   "source": [
    "### Answer 1\n",
    "\n",
    "##### 1\n",
    "\n",
    "\n",
    "##### Solution\n",
    "\n",
    "\\begin{align}\n",
    "  & {{\\varphi }_{Y}}\\left( t \\right)=\\underset{T\\to \\infty }{\\mathop{\\lim }}\\,\\frac{{{A}^{2}}}{T}\\int_{-\\tfrac{T}{2}}^{\\tfrac{T}{2}}{d\\tau \\,\\sin \\left( {{\\omega }_{1}}\\tau +\\pi \\right)}\\sin \\left( {{\\omega }_{1}}(\\tau +t)+\\pi \\right) \\\\ \n",
    " & =\\underset{T\\to \\infty }{\\mathop{\\lim }}\\,\\frac{{{A}^{2}}}{T}\\int_{-\\tfrac{T}{2}}^{\\tfrac{T}{2}}{d\\tau \\,\\sin \\left( {{\\omega }_{1}}\\tau +\\pi \\right)}\\left[ \\sin \\left( {{\\omega }_{1}}\\tau +\\pi \\right)\\cos \\left( {{\\omega }_{1}}t \\right)+\\cos \\left( {{\\omega }_{1}}\\tau +\\pi \\right)\\sin \\left( {{\\omega }_{1}}t \\right) \\right] \\\\ \n",
    " & =\\underset{T\\to \\infty }{\\mathop{\\lim }}\\,\\frac{{{A}^{2}}}{T}\\int_{-\\tfrac{T}{2}}^{\\tfrac{T}{2}}{d\\tau \\left[ {{\\sin }^{2}}\\left( {{\\omega }_{1}}\\tau +\\pi \\right)\\cos \\left( {{\\omega }_{1}}t \\right)+\\,\\sin \\left( {{\\omega }_{1}}\\tau +\\pi \\right)\\cos \\left( {{\\omega }_{1}}\\tau +\\pi \\right)\\sin \\left( {{\\omega }_{1}}t \\right) \\right]\\,} \\\\ \n",
    " & =\\cos \\left( {{\\omega }_{1}}t \\right)\\underset{T\\to \\infty }{\\mathop{\\lim }}\\,\\frac{{{A}^{2}}}{T}\\int_{-\\tfrac{T}{2}}^{\\tfrac{T}{2}}{d\\tau {{\\sin }^{2}}\\left( {{\\omega }_{1}}\\tau +\\pi \\right)}+\\sin \\left( {{\\omega }_{1}}t \\right)\\underset{T\\to \\infty }{\\mathop{\\lim }}\\,\\frac{{{A}^{2}}}{T}\\int_{-\\tfrac{T}{2}}^{\\tfrac{T}{2}}{d\\tau }\\sin \\left( {{\\omega }_{1}}\\tau +\\pi \\right)\\cos \\left( {{\\omega }_{1}}\\tau +\\pi \\right) \\\\ \n",
    " & =\\frac{{{A}^{2}}}{2}\\cos \\left( {{\\omega }_{1}}t \\right)+0  \n",
    "\\end{align}\n",
    "\n",
    "\n"
   ]
  },
  {
   "cell_type": "markdown",
   "metadata": {},
   "source": [
    "### Homework 2 (1 Point)\n",
    "\n",
    "Calculate the auto-correlation function $\\varphi_Y(t)$ for a dynamic process $Y(t)=A\\cos(\\omega_1 t)+B\\xi(t)$, where $\\xi(t)$ is the White noise introduced in Part 1. Choose the correct answer from the following choices.\n",
    "\n",
    "##### 1 $$\\varphi_Y(t)=\\frac{A^2}{2}\\cos(\\omega_1 t)+AB\\sqrt{\\cos(\\omega_1 t)\\delta(t)}+B^2\\delta(t)$$\n",
    "\n",
    "\n",
    "##### 2 $$\\varphi_Y(t)=\\frac{A^2}{2}\\cos(\\omega_1 t)+AB\\sqrt{2\\cos(\\omega_1 t)\\delta(t)}+B^2\\delta(t)$$\n",
    "\n",
    "\n",
    "##### 3 $$\\varphi_Y(t)=\\frac{A^2B^2}{2}\\cos(\\omega_1 t)\\delta(t)$$\n",
    "\n",
    "\n",
    "##### 4 $$\\varphi_Y(t)=\\frac{A^2}{2}\\cos(\\omega_1 t)+B^2\\delta(t)$$\n",
    "\n",
    "\n",
    "##### 5 $$\\varphi_Y(t)=\\frac{A^2}{2}\\cos(\\omega_1 t)-B^2\\delta(t)$$\n",
    "\n"
   ]
  },
  {
   "cell_type": "markdown",
   "metadata": {},
   "source": [
    "### Answer 2\n",
    "\n",
    "##### 4\n",
    "\n",
    "\n",
    "##### Solution\n",
    "\n",
    "$$\n",
    "\\langle\n",
    "Y(\\tau)Y(\\tau+t)\n",
    "\\rangle\n",
    "=\n",
    "\\langle\n",
    "(A\\cos(\\omega_1 \\tau)+B\\xi(\\tau))(A\\cos(\\omega_1 (\\tau+t))+B\\xi(\\tau+t)\n",
    "\\rangle\n",
    "$$\n",
    "\n",
    "$$\n",
    "=A^2\\langle\n",
    "\\cos(\\omega_1 \\tau)\\cos(\\omega_1 (\\tau+t))\n",
    "\\rangle\n",
    "+2AB\\langle\n",
    "\\cos(\\omega_1 \\tau)\\xi(\\tau+t)\n",
    "\\rangle\n",
    "+B^2\\langle\n",
    "\\xi(\\tau)\\xi(\\tau+t)\n",
    "\\rangle\n",
    "$$\n",
    "\n",
    "$$\n",
    "=A^2\\langle\n",
    "\\cos(\\omega_1 \\tau)\\cos(\\omega_1 (\\tau+t))\n",
    "\\rangle\n",
    "+2AB\\langle\n",
    "\\cos(\\omega_1 \\tau)\\rangle\n",
    "\\langle\n",
    "\\xi(\\tau+t)\n",
    "\\rangle\n",
    "+B^2\\langle\n",
    "\\xi(\\tau)\\xi(\\tau+t)\n",
    "\\rangle\n",
    "$$\n",
    "\n",
    "$$\n",
    "=A^2\\langle\n",
    "\\cos(\\omega_1 \\tau)\\cos(\\omega_1 (\\tau+t))\n",
    "\\rangle\n",
    "+B^2\\langle\n",
    "\\xi(\\tau)\\xi(\\tau+t)\n",
    "\\rangle\n",
    "$$\n",
    "\n",
    "$$=\\frac{A^2}{2}\\cos(\\omega_1 t)+B^2\\delta(t)$$"
   ]
  },
  {
   "cell_type": "markdown",
   "metadata": {},
   "source": [
    "### Homework 3 (2 Points)\n",
    "\n",
    "Estimate the diffusion constant $D$ of spherical particles with radius $a=1\\mu$m immersed in water at $T=300$K using the Stokes-Einstein relation (Eq.(32)) \n",
    "\n",
    "$$D=\\frac{k_B T}{6\\pi a\\eta}\\tag{32}$$\n",
    "\n",
    "and the following parameters\n",
    "\n",
    "- Viscosity of water at room temperature: $\\eta=0.85\\times 10^{-3}$ Pa$\\cdot$s\n",
    "\n",
    "\n",
    "- The Boltzmann constant: $k_B=1.38064852 \\times 10^{-23}$ J$\\cdot$K$^{-1}$\n",
    "\n",
    "\n",
    "\n",
    "Choose the value closest to your answer from the following choices. \n",
    "\n",
    "##### 1 $\\ \\ \\ \\ \\ \\ \\ \\ \\ 2.6\\times10^{-7}$m$^{2}\\cdot$s$^{-1}$\n",
    "\n",
    "##### 2 $\\ \\ \\ \\ \\ \\ \\ \\ \\ 2.6\\times10^{-13}$m$^{2}\\cdot$s$^{-1}$\n",
    "\n",
    "##### 3 $\\ \\ \\ \\ \\ \\ \\ \\ \\ 2.6\\times10^{-19}$m$^{2}\\cdot$s$^{-1}$\n",
    "\n",
    "##### 4 $\\ \\ \\ \\ \\ \\ \\ \\ \\ 2.6\\times10^{-7}$m$^{-2}\\cdot$s\n",
    "\n",
    "##### 5 $\\ \\ \\ \\ \\ \\ \\ \\ \\ 2.6\\times10^{-13}$m$^{-2}\\cdot$s\n",
    "\n",
    "##### 6 $\\ \\ \\ \\ \\ \\ \\ \\ \\ 2.6\\times10^{-19}$m$^{-2}\\cdot$s"
   ]
  },
  {
   "cell_type": "markdown",
   "metadata": {},
   "source": [
    "### Answer 3\n",
    "\n",
    "##### 2\n",
    "\n",
    "\n",
    "##### Solution\n",
    "\n",
    "$$D=\\frac{k_B T}{6\\pi a\\eta}=\\frac{1.38064852 \\times 10^{-23} \\rm{J}\\cdot\\rm{K}^{-1}\\times 300\\rm{K}}\n",
    "{6\\pi\\times 10^{-6}\\rm{m}\\times 0.85\\times 10^{-3}\\rm{Pa}\\cdot\\rm{s}}\n",
    "=2.6\\times10^{-13}\\rm{m}^{2}\\cdot\\rm{s}^{-1}$$"
   ]
  },
  {
   "cell_type": "markdown",
   "metadata": {},
   "source": [
    "### Homework 4 (1 Point)\n",
    "\n",
    "Calculate the right-hand-side of Eq.(47) using the correlation function given in Eq.(26). \n",
    "\n",
    "$$\\varphi_V(t)=\\frac{3\\tilde{D}}{\\zeta m}\\exp\\left(-\\frac{\\zeta}{m}|t|\\right)\\tag{26}$$\n",
    "\n",
    "$$D=\\frac{1}{3}\\int_0^\\infty \\text{d}t\\ \\varphi_V(t) \\tag{47}$$\n",
    "\n",
    "Choose the correct result for $D$ from the following choices.\n",
    "\n",
    "##### 1 $$\\tilde{D}$$\n",
    "\n",
    "\n",
    "##### 2 $$6\\tilde{D}t$$\n",
    "\n",
    "\n",
    "##### 3 $$\\frac{\\tilde{D}}{k_B T\\zeta}$$\n",
    "\n",
    "\n",
    "##### 4 $$\\frac{m\\tilde{D}}{\\zeta}$$\n",
    "\n",
    "\n",
    "##### 5 $$\\frac{\\tilde{D}}{\\zeta^2}$$\n"
   ]
  },
  {
   "cell_type": "markdown",
   "metadata": {},
   "source": [
    "### Answer 7\n",
    "\n",
    "##### 5\n",
    "\n",
    "##### Solution\n",
    "\n",
    "$$D=\\frac{1}{3}\\int_0^\\infty \\text{d}t\\ \\varphi_V(t)\n",
    "=\\frac{1}{3}\\int_0^\\infty \\text{d}t\\ \\frac{3\\tilde{D}}{\\zeta m}\\exp\\left(-\\frac{\\zeta}{m}|t|\\right)\n",
    "=\\frac{\\tilde{D}}{\\zeta^2}\n",
    "$$"
   ]
  },
  {
   "cell_type": "markdown",
   "metadata": {},
   "source": [
    "### Homework 5 (1 Point)\n",
    "\n",
    "Replace $F_0\\rightarrow2F_0$ in Eq.(41), then redo all the calculations to derive the equation corresponding to equation Eq.(47). Choose the correct equation, relating the diffusion constant $D$ to the velocity auto-correlation funciton $\\varphi_V(t)$, from the following choices. \n",
    "\n",
    "\n",
    "##### 1 $$D=\\frac{2}{3}\\int_0^\\infty \\text{d}t\\ \\varphi_V(t)$$\n",
    "\n",
    "\n",
    "\n",
    "##### 2 $$D=\\frac{\\sqrt{2}}{3}\\int_0^\\infty \\text{d}t\\ \\varphi_V(t)$$\n",
    "\n",
    "\n",
    "\n",
    "##### 3 $$D=\\frac{1}{3}\\int_0^\\infty \\text{d}t\\ \\varphi_V(t)$$\n",
    "\n",
    "\n",
    "\n",
    "##### 4 $$D=\\frac{1}{3\\sqrt{2}}\\int_0^\\infty \\text{d}t\\ \\varphi_V(t)$$\n",
    "\n",
    "\n",
    "\n",
    "##### 5 $$D=\\frac{1}{6}\\int_0^\\infty \\text{d}t\\ \\varphi_V(t)$$\n"
   ]
  },
  {
   "cell_type": "markdown",
   "metadata": {},
   "source": [
    "### Answer 5\n",
    "\n",
    "##### 3\n",
    "\n",
    "##### Solution\n",
    "\n",
    "Eq.(43)$\\rightarrow$\n",
    "$$D=\\lim_{t\\rightarrow 0}\\langle V_x\\rangle_{ext}\\frac{k_B T}{2F_0}$$\n",
    "\n",
    "Eq.(46)$\\rightarrow$\n",
    "$$\\langle V_x\\rangle_{H_0+H'}=\\frac{2F_0}{3k_B T}\\int_0^t dt'\\langle\\bf{V}\\it(\\tau + t')\\bf{V}\\it(\\tau)\\rangle_{H_0}\n",
    "$$\n",
    "\n",
    "$$\\therefore\\ \\ \\ \\ \\ D=\\frac{1}{3}\\int_0^\\infty \\text{d}t\\ \\varphi_V(t)$$"
   ]
  }
 ],
 "metadata": {
  "kernelspec": {
   "display_name": "Python 3",
   "language": "python",
   "name": "python3"
  },
  "language_info": {
   "codemirror_mode": {
    "name": "ipython",
    "version": 3
   },
   "file_extension": ".py",
   "mimetype": "text/x-python",
   "name": "python",
   "nbconvert_exporter": "python",
   "pygments_lexer": "ipython3",
   "version": "3.8.5"
  }
 },
 "nbformat": 4,
 "nbformat_minor": 2
}
