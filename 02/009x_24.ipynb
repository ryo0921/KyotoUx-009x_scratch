{
 "cells": [
  {
   "cell_type": "markdown",
   "metadata": {
    "slideshow": {
     "slide_type": "slide"
    }
   },
   "source": [
    "# Stochastic Processes: <br>Data Analysis and Computer Simulation\n",
    "<br>\n",
    "\n",
    "\n",
    "# Distribution function and random number\n",
    "<br>\n",
    "\n",
    "\n",
    "# 4. Random walk\n",
    "<br>"
   ]
  },
  {
   "cell_type": "markdown",
   "metadata": {
    "slideshow": {
     "slide_type": "slide"
    }
   },
   "source": [
    "# 4.1. The model system (1D random walk)\n",
    "\n",
    "![](fig/random_walk.png)\n",
    "\n"
   ]
  },
  {
   "cell_type": "markdown",
   "metadata": {
    "slideshow": {
     "slide_type": "slide"
    }
   },
   "source": [
    "# 4.2. As binomial distribution\n",
    "\n",
    "- The total number of steps to the right: $n_+$\n",
    "- The total number of steps to the left: $n_-$\n",
    "- The total number of steps: $m=n_+ + n_-$\n",
    "- The current location: $l=n_+ - n_-$\n",
    "\n",
    "\\begin{equation}\n",
    "\\therefore \\ \\ \\ n_+=\\frac{m+l}{2}, \\ \\ \\ \\ \\ \\ n_-=\\frac{m-l}{2}\\tag{E1}\n",
    "\\end{equation}\n",
    "\n",
    "\\begin{equation}\n",
    "%\\tilde\n",
    "{P}(l,m)\\rightarrow P_{\\rm Binomial}(n_+;m)\n",
    "%\\frac{dn_+}{dl}\n",
    "=P_{\\rm Binomial}(n_-;m)\n",
    "%\\frac{dn_-}{dl}\n",
    "\\tag{E2}\n",
    "\\end{equation}\n",
    "\n",
    "\\begin{equation}\n",
    "\\hspace{20mm}\n",
    "=\n",
    "%\\frac{1}{2}\n",
    "\\frac{m!}{n_+!(m-n_+)!}{{p}^{n_+}}{{(1-p)}^{m-n_+}}\\tag{E3}\n",
    "\\end{equation}"
   ]
  },
  {
   "cell_type": "markdown",
   "metadata": {
    "slideshow": {
     "slide_type": "slide"
    }
   },
   "source": [
    "# 4.3. As normal distribution (for $n_+,m\\gg 1$)\n",
    "\\begin{equation}\n",
    "P_{\\rm Binomial}(n_+;m)\n",
    "%\\xrightarrow[n_+\\to cont.]{n_+,m\\gg 1}\\ \n",
    "\\simeq\n",
    "\\frac{1}{\\sqrt{2\\pi {{\\sigma'}^{2}}}}\\exp \\left[ -\\frac{{{(n_+-{{\\mu' }_{1}})}^{2}}}{2{{\\sigma' }^{2}}} \\right]\\tag{E4}\n",
    "\\end{equation}\n",
    "\n",
    "\\begin{equation}\n",
    "{\\rm with}\\hspace{5mm}\n",
    "\\mu_1'=\\langle n_+\\rangle=mp,\\ \\ \\ \n",
    "\\sigma'^2=\\langle n_+^2\\rangle - \\langle n_+\\rangle^2=mp(1-p) \\tag{E5, E6}\n",
    "\\end{equation}\n",
    "\n",
    "Recall that $n_+=(m+l)~/~2$\n",
    "\n",
    "\\begin{equation}\n",
    "P_{\\rm Binomial}(n_+;m)\n",
    "%\\rightarrow\\frac{1}{\\sqrt{2\\pi mp(1-p)}}\n",
    "\\simeq\\exp \\left[ -\\frac{{{(l-{m(2p-1)})}^{2}}}{8mp(1-p)} \\right]\\tag{E7}\n",
    "\\end{equation}\n",
    "\n",
    "\\begin{equation}\n",
    "\\therefore \\ \\ \n",
    "%\\tilde\n",
    "{P}(l,m)= P_{\\rm Binomial}(n_+;m)\\frac{dn_+}{dl}\n",
    "= P_{\\rm Binomial}(n_+;m)\\frac{1}{2}\\tag{E8}\n",
    "\\end{equation}\n",
    "\n",
    "\\begin{equation}\n",
    "\\simeq\\frac{1}{\\sqrt{2\\pi \\sigma''^2}}\n",
    "\\exp \\left[ -\\frac{{{(l-{\\mu''_1})}^{2}}}{2\\sigma''^2} \\right]\\tag{E9}\n",
    "\\end{equation}\n",
    "\n",
    "\\begin{equation}\n",
    "%\\hspace{20mm}\n",
    "{\\rm with}\\hspace{5mm}\n",
    "\\mu''_1=\\langle l\\rangle=m(2p-1),\\ \\ \\ \n",
    "\\sigma''^2=\\langle l^2\\rangle - \\langle l\\rangle^2=4mp(1-p) \\tag{E10, E11}\n",
    "\\end{equation}"
   ]
  },
  {
   "cell_type": "markdown",
   "metadata": {
    "slideshow": {
     "slide_type": "slide"
    }
   },
   "source": [
    "# 4.4. By computer simulation"
   ]
  },
  {
   "cell_type": "code",
   "execution_count": 1,
   "metadata": {},
   "outputs": [],
   "source": [
    "%matplotlib inline\n",
    "import numpy as np # import numpy library as np\n",
    "import math # use mathematical functions defined by the C standard\n",
    "import matplotlib.pyplot as plt # import pyplot library as plt \n",
    "plt.style.use('ggplot') # use \"ggplot\" style for graphs"
   ]
  },
  {
   "cell_type": "code",
   "execution_count": 2,
   "metadata": {
    "slideshow": {
     "slide_type": "slide"
    }
   },
   "outputs": [
    {
     "name": "stdout",
     "output_type": "stream",
     "text": [
      "p = 0.5 M = 1000\n"
     ]
    },
    {
     "data": {
      "image/png": "[encoded data removed]",
      "text/plain": [
       "<Figure size 432x288 with 1 Axes>"
      ]
     },
     "metadata": {},
     "output_type": "display_data"
    }
   ],
   "source": [
    "p = 0.5 # set p, propability to take a step to the right\n",
    "M = 1000 # M = number of total steps\n",
    "N = 100000 # N = number of independent random walkers\n",
    "ave = M*(2*p-1) # average of the location L after M steps Eq.(E10)\n",
    "std = np.sqrt(4*M*p*(1-p)) # standard deviation of L after M steps Eq.(E11)\n",
    "print('p =',p,'M =',M)\n",
    "L = np.zeros(N)\n",
    "np.random.seed(0) # initialize the random number generator with seed=0\n",
    "for i in range(N): # repeat independent random walks N times\n",
    "    step=np.random.choice([-1,1],M) # generate random sampling from -1 or +1 M times and store them as step\n",
    "    L[i]=np.sum(step) # calculate l after making M random steps and store it as L\n",
    "nmin=np.int(ave-std*5)\n",
    "nmax=np.int(ave+std*5)\n",
    "nbin=np.int((nmax-nmin)/4)\n",
    "plt.hist(L,range=[nmin,nmax],bins=nbin,density=True) # plot normalized histogram of L\n",
    "x = np.arange(nmin,nmax,0.01/std) # create array of x from nmin to nmax with increment 0.01/std\n",
    "y = np.exp(-(x-ave)**2/(2*std**2))/np.sqrt(2*np.pi*std**2) # calculate the theoretical distribution Eq.(E9)\n",
    "plt.plot(x,y,lw=2,color='b') # plot y vs. x with blue line\n",
    "plt.xlabel(r'$l$',fontsize=16) # set x-label\n",
    "plt.ylabel(r'$P(l,m)$',fontsize=16) # set y-label\n",
    "plt.legend([r'Gauss',r'histogram'], fontsize=16, loc=0) # set legends\n",
    "plt.xlim(ave-250,ave+250) # set x-range\n",
    "plt.show() # display plots"
   ]
  },
  {
   "cell_type": "markdown",
   "metadata": {
    "slideshow": {
     "slide_type": "notes"
    }
   },
   "source": [
    "- You may repeat the same simulation by choosing different values of total steps, for example $M=100$, $1,000$, $10,000$, and $100,000$ to see how the distribution changes with the total number of steps."
   ]
  },
  {
   "cell_type": "markdown",
   "metadata": {
    "slideshow": {
     "slide_type": "slide"
    }
   },
   "source": [
    "# 4.5. Connection with the diffusion constant $D$\n",
    "\n",
    "## $P(x,t)$ from random walk\n",
    "\n",
    "- Define $a$ as the length of a single step and $t_s$ as the time between subsequent steps.\n",
    "- Define $x=al$ as the position of the random walker and $t=t_s m$ as the duration of time needed to take $m$ steps.\n",
    "- Here we consider a drift free case $p=0.5$, i.e., $\\mu_1=\\langle l\\rangle=m(2p-1)=0$.\n",
    "\n",
    "\\begin{equation}\n",
    "P(x,t)=P(l,m)\\frac{dl}{dx}=P(l,m)\\frac{1}{a}\n",
    "\\tag{E12}\n",
    "\\end{equation}\n",
    "\n",
    "\\begin{equation}\n",
    "%P_{\\rm Binomial}(n_+;m)\\rightarrow\n",
    "=\\frac{1}{a\\sqrt{8\\pi mp(1-p)}}\n",
    "\\exp \\left[ -\\frac{{l^2}}{8mp(1-p)} \\right]\\tag{E13}\n",
    "\\end{equation}\n",
    "\n",
    "\\begin{equation}\n",
    "%P_{\\rm Binomial}(n_+;m)\\rightarrow\n",
    "=\\frac{1}{\\sqrt{8\\pi a^2 p(1-p)t/t_s}}\n",
    "\\exp \\left[ -\\frac{{x^2}}{8a^2p(1-p)t/t_s} \\right]\\tag{E14}\n",
    "\\end{equation}\n",
    "\n",
    "\\begin{equation}\n",
    "\\hspace{-10mm}\n",
    "{\\rm with}\\hspace{5mm}\n",
    "\\mu_1=\\langle x\\rangle=0,\\ \\  \n",
    "\\sigma^2=\\langle x^2\\rangle - \\langle x\\rangle^2=4a^2p(1-p)t/t_s \\tag{E15, E16}\n",
    "\\end{equation}"
   ]
  },
  {
   "cell_type": "markdown",
   "metadata": {
    "slideshow": {
     "slide_type": "slide"
    }
   },
   "source": [
    "## $P(x,t)$ from the diffusion equation\n",
    "\n",
    "- Consier the 1-D diffusion equation with diffusion constant $D$ \n",
    "\\begin{equation}\n",
    "\\frac{\\partial}{\\partial t} P(x,t)=D\\frac{\\partial ^2}{\\partial x^2} P(x,t)\n",
    "\\tag{E17}\n",
    "\\end{equation}\n",
    "\\begin{equation}\n",
    "{\\rm with}\\hspace{5mm}P(x,t=0)=\\delta(x)\n",
    "\\tag{E18}\n",
    "\\end{equation}\n",
    "- The solution is given by\n",
    "\\begin{equation}\n",
    "P(x,t)=\\frac{1}{\\sqrt{4\\pi Dt}}\n",
    "\\exp \\left[ -\\frac{{{x^2}}}{4Dt} \\right]\\tag{E19}\n",
    "\\end{equation}\n",
    "- By comparing Eqs.(E14) and (E19) we can relate the diffusion constant $D$ to the variance of the position of random walkers\n",
    "\\begin{equation}\n",
    "D=\\frac{2a^2p(1-p)}{t_s}=\\frac{\\sigma^2}{2t}\\tag{E20}\n",
    "\\end{equation}\n",
    "- In this case, $\\sigma^2$ is also referred to as the mean-square displacement"
   ]
  }
 ],
 "metadata": {
  "anaconda-cloud": {},
  "celltoolbar": "Slideshow",
  "kernelspec": {
   "display_name": "Python 3",
   "language": "python",
   "name": "python3"
  },
  "language_info": {
   "codemirror_mode": {
    "name": "ipython",
    "version": 3
   },
   "file_extension": ".py",
   "mimetype": "text/x-python",
   "name": "python",
   "nbconvert_exporter": "python",
   "pygments_lexer": "ipython3",
   "version": "3.8.5"
  }
 },
 "nbformat": 4,
 "nbformat_minor": 2
}
