{
 "cells": [
  {
   "cell_type": "markdown",
   "metadata": {
    "slideshow": {
     "slide_type": "slide"
    }
   },
   "source": [
    "# Stochastic Processes: <br>Data Analysis and Computer Simulation\n",
    "<br>\n",
    "\n",
    "\n",
    "# Distribution function and random number\n",
    "<br>\n",
    "\n",
    "\n",
    "# 3. The central limit theorem\n",
    "<br>"
   ]
  },
  {
   "cell_type": "markdown",
   "metadata": {
    "slideshow": {
     "slide_type": "slide"
    }
   },
   "source": [
    "# 3.1. Binomial distribution $\\rightarrow$ Gauss distribution"
   ]
  },
  {
   "cell_type": "markdown",
   "metadata": {},
   "source": [
    "## From the previous lesson\n",
    "\n",
    "- The binomial distribution becomes equivalent to the Gaussian distribution in the limit $n, M\\gg 1$, as shown in the 1st plot of this week.\n",
    "\n",
    "\\begin{equation}\n",
    "P(n)=\\frac{M!}{n!(M-n)!}{{p}^{n}}{{(1-p)}^{M-n}}\\tag{C6}\n",
    "\\end{equation}\n",
    "\n",
    "\\begin{equation}\n",
    "\\hspace{20mm}\n",
    "\\xrightarrow[n\\to cont.]{n,M\\gg 1}\\ \n",
    "% P(n)=\n",
    "\\frac{1}{\\sqrt{2\\pi {{\\sigma }^{2}}}}\\exp \\left[ -\\frac{{{(n-{{\\mu }_{1}})}^{2}}}{2{{\\sigma }^{2}}} \\right]\\tag{C1}\n",
    "\\end{equation}\n",
    "\n",
    "\\begin{equation}\n",
    "\\hspace{20mm}\n",
    "\\mu_1=Mp,\\ \\ \\ \\ \n",
    "\\sigma^2=Mp(1-p) \\tag{C7, C8}\n",
    "\\end{equation}"
   ]
  },
  {
   "cell_type": "markdown",
   "metadata": {
    "slideshow": {
     "slide_type": "slide"
    }
   },
   "source": [
    "## Numerical experiment 1\n",
    "\n",
    "- While the proof for the equivalence has been given in the supplemental note, let us examine this by performing numerical experiments for various values of $M=1,2,4,10,100$ and $1000$."
   ]
  },
  {
   "cell_type": "markdown",
   "metadata": {
    "slideshow": {
     "slide_type": "-"
    }
   },
   "source": [
    "### Include libraries"
   ]
  },
  {
   "cell_type": "code",
   "execution_count": 1,
   "metadata": {},
   "outputs": [],
   "source": [
    "%matplotlib inline\n",
    "import numpy as np # import numpy library as np\n",
    "import math # use mathematical functions defined by the C standard\n",
    "import matplotlib.pyplot as plt # import pyplot library as plt \n",
    "plt.style.use('ggplot') # use \"ggplot\" style for graphs"
   ]
  },
  {
   "cell_type": "code",
   "execution_count": 2,
   "metadata": {
    "slideshow": {
     "slide_type": "slide"
    }
   },
   "outputs": [
    {
     "name": "stdout",
     "output_type": "stream",
     "text": [
      "p = 0.5 M = 50\n"
     ]
    },
    {
     "data": {
      "image/png": "[encoded data removed]",
      "text/plain": [
       "<Figure size 432x288 with 1 Axes>"
      ]
     },
     "metadata": {},
     "output_type": "display_data"
    }
   ],
   "source": [
    "p = 0.5    # set p, propability to obtain \"head\" from a coin toss\n",
    "M = 50      # set M, number of tosses in one experiment\n",
    "N = 100000 # number of experiments\n",
    "ave = M*p\n",
    "std = np.sqrt(M*p*(1-p))\n",
    "print('p =',p,'M =',M)\n",
    "np.random.seed(0) # initialize the random number generator with seed=0\n",
    "X = np.random.binomial(M,p,N) # generate the number of head come up N times store it as X\n",
    "nmin=np.int(ave-std*5)\n",
    "nmax=np.int(ave+std*5)\n",
    "nbin=nmax-nmin+1\n",
    "plt.hist(X,range=[nmin,nmax],bins=nbin,density=True) # plot normalized histogram of R\n",
    "x = np.arange(nmin,nmax,0.01/std) # create array of x from nmin to nmax with increment 0.01/std\n",
    "y = np.exp(-(x-ave)**2/(2*std**2))/np.sqrt(2*np.pi*std**2) # calculate the theoretical distribution\n",
    "plt.plot(x,y,color='b') # plot y vs. x with blue line\n",
    "plt.xlabel(r'$n$',fontsize=16) # set x-label\n",
    "plt.ylabel(r'$P(n)$',fontsize=16) # set y-label\n",
    "plt.legend([r'Gauss',r'histogram'], fontsize=16) # set legends\n",
    "plt.show() # display plots"
   ]
  },
  {
   "cell_type": "markdown",
   "metadata": {
    "slideshow": {
     "slide_type": "slide"
    }
   },
   "source": [
    "## What we can learn from the experiment\n",
    "\n",
    "- Stochastic variable \"$s$\" is a result of single binary choice, \n",
    "\n",
    "\\begin{equation}\n",
    "s=0\\ {\\rm or}\\ 1 \n",
    "%\\tag{D1}\n",
    "\\end{equation}\n",
    "\n",
    "and Stochastic variable \"$n^{M}$\" is a sum of $M$ independent binary choices $s$, with the index $j$ representing the $j$-th choice.\n",
    "\n",
    "\\begin{equation}\n",
    "%\\color{red}\n",
    "{\n",
    "n^{M}=\\sum^{M}_{j=1}s_j} \n",
    "%\\tag{D4}\n",
    "\\end{equation}\n",
    "\n",
    "### For $M=1$ \n",
    "\n",
    "\\begin{equation}\n",
    "n^{M=1}=s_1=s=0\\ {\\rm or}\\ 1 \n",
    "\\tag{D1}\n",
    "\\end{equation}\n",
    "- Distribution function $\\rightarrow$ Binary choice,\n",
    "$P^{M=1}(0)=1-p, \\ P^{M=1}(1)=p, $ with\n",
    "\n",
    "\\begin{equation}\n",
    "\\hspace{15mm}\\mu^{M=1}_1=p, \\hspace{23mm} \\sigma_{M=1}^2=p(1-p) \\tag{D2, D3}\n",
    "\\end{equation}"
   ]
  },
  {
   "cell_type": "markdown",
   "metadata": {
    "slideshow": {
     "slide_type": "slide"
    }
   },
   "source": [
    "### For $M\\gg 1$ \n",
    "\n",
    "\\begin{equation}\n",
    "\\color{red}{\n",
    "n^{M}=\\sum^{M}_{j=1}s_j=\\sum^{M}_{j=1}n^{M=1}_j}  \\tag{D4}\n",
    "\\end{equation}\n",
    "- Distribution function $\\rightarrow$ Gaussian with\n",
    "\n",
    "\\begin{equation}\n",
    "%\\hspace{20mm}\n",
    "\\color{red}{\n",
    "\\mu^{M\\gg1}_1=M\\mu^{M=1}_1,\\hspace{20mm} \\sigma_{M\\gg1}^2=M\\sigma_{M=1}^2} \\tag{D5, D6}\n",
    "\\end{equation}"
   ]
  },
  {
   "cell_type": "markdown",
   "metadata": {
    "slideshow": {
     "slide_type": "slide"
    }
   },
   "source": [
    "# 3.2. The central limiting theorem (CLT)"
   ]
  },
  {
   "cell_type": "markdown",
   "metadata": {
    "slideshow": {
     "slide_type": "-"
    }
   },
   "source": [
    "## Generalization of Eqs. (D4-D6) for $M\\gg 1$ \n",
    "\n",
    "### CLT for sum of stochastic variables\n",
    "\n",
    "- Stochastic variable \"$n^M$\" as a SUM of any $M$ independent stochastic variables $n^{M=1}$ with $\\mu_1^{M=1}$ and $\\sigma_{M=1}^2$,\n",
    "\n",
    "\\begin{equation}\n",
    "n^{M}=\\sum^{M}_{j=1}n^{M=1}_j \\tag{D7}\n",
    "\\end{equation}\n",
    "- Distribution function $\\rightarrow$ Gauss with\n",
    "\n",
    "\\begin{equation}\n",
    "%\\hspace{20mm}\n",
    "{\n",
    "\\mu^{M\\gg1}_1=M\\mu^{M=1}_1,\\hspace{20mm} \\sigma_{M\\gg1}^2=M\\sigma_{M=1}^2} \\tag{D8, D9}\n",
    "\\end{equation}\n"
   ]
  },
  {
   "cell_type": "markdown",
   "metadata": {
    "slideshow": {
     "slide_type": "slide"
    }
   },
   "source": [
    "### CLT for average of stochastic variables\n",
    "\n",
    "- Stochastic variable \"$n^M$\" as an AVERAGE of any $M$ independent stochastic variables with $\\mu^{M=1}$ and $\\sigma_{M=1}^2$,\n",
    "\n",
    "\\begin{equation}\n",
    "n^{M}=\\frac{1}{M}\\sum^{M}_{j=1}n^{M=1}_j \\tag{D10}\n",
    "\\end{equation}\n",
    "- Distribution function $\\rightarrow$ Gauss with\n",
    "\n",
    "\\begin{equation}\n",
    "%\\hspace{20mm}\n",
    "{\n",
    "\\mu^{M\\gg1}_1=\\mu^{M=1}_1,\\hspace{20mm} \\sigma_{M\\gg1}^2=\\frac{\\sigma_{M=1}^2}{M}} \\tag{D11, D12}\n",
    "\\end{equation}\n",
    "\n",
    "- Eqs. (D7-D12) is called \"the central limiting theorem\"."
   ]
  },
  {
   "cell_type": "markdown",
   "metadata": {
    "slideshow": {
     "slide_type": "slide"
    }
   },
   "source": [
    "# 3.3. Uniform distribution $\\rightarrow$ Gauss distribution"
   ]
  },
  {
   "cell_type": "markdown",
   "metadata": {
    "slideshow": {
     "slide_type": "-"
    }
   },
   "source": [
    "## From CLT\n",
    "\n",
    "### For $M=1$ \n",
    "\n",
    "- Stochastic variable \"$x$\" is uniformly distributed between 0 and 1, \n",
    "\n",
    "\\begin{equation}\n",
    "x^{M=1}\\in[0:1]\n",
    "\\tag{D13}\n",
    "\\end{equation}\n",
    "- Distribution function: \n",
    "$P^{M=1}(x)=1 \\ ({\\rm for\\ } 0\\le x < 1),\\ P^{M=1}(x)=0\\ {\\rm (otherwise)}$\n",
    "\n",
    "\\begin{equation}\n",
    "\\hspace{15mm}\\mu^{M=1}_1=\\frac{1}{2}, \\hspace{23mm} \\sigma_{M=1}^2=\\frac{1}{12} \\tag{D14, D15}\n",
    "\\end{equation}"
   ]
  },
  {
   "cell_type": "markdown",
   "metadata": {
    "slideshow": {
     "slide_type": "slide"
    }
   },
   "source": [
    "### For $M\\gg 1$ \n",
    "\n",
    "- Stochastic variable \"$x$\" is a sum of $M$ independent uniform random numbers\n",
    "\n",
    "\\begin{equation}\n",
    "{\n",
    "x^{M}=\\sum^{M}_{j=1}x^{M=1}_j} \\tag{D16}\n",
    "\\end{equation}\n",
    "- Distribution function $\\rightarrow$ Gauss with\n",
    "\n",
    "\\begin{equation}\n",
    "%\\hspace{20mm}\n",
    "{\n",
    "\\mu^{M\\gg1}_1=M\\mu^{M=1}_1=\\frac{M}{2},\\hspace{20mm} \\sigma_{M\\gg1}^2=M\\sigma_{M=1}^2}=\\frac{M}{12} \\tag{D17, D18}\n",
    "\\end{equation}"
   ]
  },
  {
   "cell_type": "markdown",
   "metadata": {
    "slideshow": {
     "slide_type": "slide"
    }
   },
   "source": [
    "## Numerical experiment 2"
   ]
  },
  {
   "cell_type": "code",
   "execution_count": 3,
   "metadata": {},
   "outputs": [
    {
     "name": "stdout",
     "output_type": "stream",
     "text": [
      "M = 10\n"
     ]
    },
    {
     "data": {
      "image/png": "[encoded data removed]",
      "text/plain": [
       "<Figure size 432x288 with 1 Axes>"
      ]
     },
     "metadata": {},
     "output_type": "display_data"
    }
   ],
   "source": [
    "M = 10    # set M, the number of random variables to add\n",
    "N = 100000 # number samples to draw, for each of the random variables\n",
    "ave = M/2\n",
    "std = np.sqrt(M/12)\n",
    "print('M =',M)\n",
    "np.random.seed(0)        # initialize the random number generator with seed=0\n",
    "X = np.zeros(N)\n",
    "for i in range(N):\n",
    "    X[i] += np.sum(np.random.rand(M)) # draw a random numbers for each of the x_i and add to get new value for x = \\sum x_i\n",
    "nmin=np.int(ave-std*5)\n",
    "nmax=np.int(ave+std*5)\n",
    "plt.hist(X,range=[nmin,nmax],bins=50,density=True) # plot normalized histogram of R\n",
    "x = np.arange(nmin,nmax,0.01/std) # create array of x from nmin to nmax with increment 0.01/std\n",
    "y = np.exp(-(x-ave)**2/(2*std**2))/np.sqrt(2*np.pi*std**2) # calculate the theoretical distribution\n",
    "plt.plot(x,y,color='b') # plot y vs. x with blue line\n",
    "plt.xlabel(r'$n$',fontsize=16) # set x-label\n",
    "plt.ylabel(r'$P(n)$',fontsize=16) # set y-label\n",
    "plt.legend([r'Gauss',r'histogram'], fontsize=16) # set legends\n",
    "plt.show() # display plots"
   ]
  }
 ],
 "metadata": {
  "anaconda-cloud": {},
  "celltoolbar": "Slideshow",
  "kernelspec": {
   "display_name": "Python 3",
   "language": "python",
   "name": "python3"
  },
  "language_info": {
   "codemirror_mode": {
    "name": "ipython",
    "version": 3
   },
   "file_extension": ".py",
   "mimetype": "text/x-python",
   "name": "python",
   "nbconvert_exporter": "python",
   "pygments_lexer": "ipython3",
   "version": "3.8.5"
  }
 },
 "nbformat": 4,
 "nbformat_minor": 2
}
