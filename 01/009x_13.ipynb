{
 "cells": [
  {
   "cell_type": "markdown",
   "metadata": {
    "slideshow": {
     "slide_type": "slide"
    }
   },
   "source": [
    "# Stochastic Processes: <br>Data Analysis and Computer Simulation\n",
    "<br>\n",
    "\n",
    "\n",
    "# Python programming for beginners\n",
    "<br>\n",
    "\n",
    "# 3. The Euler method for numerical integration\n",
    "<br>"
   ]
  },
  {
   "cell_type": "markdown",
   "metadata": {
    "slideshow": {
     "slide_type": "slide"
    }
   },
   "source": [
    "# 3.1. Ordinary differential equations (ODE)"
   ]
  },
  {
   "cell_type": "markdown",
   "metadata": {},
   "source": [
    "## 1st order ODE\n",
    "- Consider the following 1st order differential equation.\n",
    "\n",
    "$$\n",
    "\\frac{dy(t)}{dt}=f(y(t),t) \\tag{A1}\n",
    "$$\n",
    "- Assume that the initial conditions are $y=y_0$ at time $t=t_0$.\n",
    "- We need to determine $y(t)$, for any $t \\ge t_0$."
   ]
  },
  {
   "cell_type": "markdown",
   "metadata": {
    "slideshow": {
     "slide_type": "-"
    }
   },
   "source": [
    "## Formal solution\n",
    "\n",
    "- Integrate Eq.(A1) over time, from $0\\rightarrow t$, to obtain the formal solution for $y(t)$\n",
    "\n",
    "$$\n",
    "y(t)=y_0+\\int_{{{t}_{0}}}^{t}{}\\,d{t}'f(y({t}'),{t}') \\tag{A2}\n",
    "$$"
   ]
  },
  {
   "cell_type": "markdown",
   "metadata": {
    "slideshow": {
     "slide_type": "slide"
    }
   },
   "source": [
    "# 3.2. Numerical calculation"
   ]
  },
  {
   "cell_type": "markdown",
   "metadata": {},
   "source": [
    "## Discretization\n",
    "\n",
    "- Divide the total time span $t_0\\rightarrow t$ into $N$ equally spaced segments, each describing a time increment $\\Delta t$.\n",
    "![](fig/discretize.png) \n",
    "$$\n",
    "t_i\\equiv t_0+i\\Delta t,\\ \\ \\ \\ \n",
    "y_i\\equiv y(t_i),\\ \\ \\ \\ \n",
    "f_i\\equiv f(t_i,y(t_i))\\tag{A3}\n",
    "$$"
   ]
  },
  {
   "cell_type": "markdown",
   "metadata": {
    "slideshow": {
     "slide_type": "slide"
    }
   },
   "source": [
    "## Advancing the solution forward a small step $\\Delta t$\n",
    "\n",
    "- Integrate Eq.(A1) over a small time interval, from $t_i \\rightarrow t_{i+1}(=t_i+\\Delta t)$,\n",
    "\n",
    "$$\n",
    "y_{i+1} \n",
    "=y_i+\\int_{{{t}_{i}}}^{t_{i+1}}{}\\,d{t}'\\,f(y({t}'),{t}') \\hspace{50mm}\\tag{A3}\n",
    "$$\n",
    "$$\n",
    "= y_i+\\int_{0}^{\\Delta t}\\,d{\\tau}\\,f(y({t_i+\\tau}),t_i+\\tau)\\ \\ \\ \\ \\ \\ \\ \\ (\\tau\\equiv t'-t_i)\\tag{A4}\n",
    "$$\n",
    "$$\n",
    "= y_i+\\int_{0}^{\\Delta t}\\,d{\\tau}\\,\\left[f_i+\\mathcal{O}(\\tau)+\\mathcal{O}(\\tau^2)+\\cdots)\\right]\\hspace{14mm}\\tag{A5}\n",
    "$$\n",
    "$$\n",
    "= y_i+\\left[\\tau\\, f_i+\\mathcal{O}(\\tau^2)+\\mathcal{O}(\\tau^3)+\\cdots)\\right]_{0}^{\\Delta t} \\hspace{23mm}\\tag{A6}\n",
    "$$\n",
    "\n",
    "$$\n",
    "= y_i+\\Delta t \\,f_i+\\mathcal{O}(\\Delta t^2)+\\mathcal{O}(\\Delta t^3)+\\cdots \\hspace{23mm}\\tag{A7}\n",
    "$$"
   ]
  },
  {
   "cell_type": "markdown",
   "metadata": {
    "slideshow": {
     "slide_type": "slide"
    }
   },
   "source": [
    "## Euler method\n",
    "\n",
    "- Difference equation $\\rightarrow$ 1st order in $\\Delta t$\n",
    "\n",
    "\n",
    "$$\n",
    "y_{i+1} \n",
    "=y_i+\\int_{{{t}_{i}}}^{t_{i+1}}{}\\,d{t}'\\,f(y({t}'),{t}')\n",
    "\\simeq y_i+\\Delta t \\,f_i \\tag{A8}\n",
    "$$\n",
    "\n",
    "- Simulation procedure $\\rightarrow$ Explicit method\n",
    "\n",
    "$$\n",
    "y_0, f_0 \\xrightarrow[\\Delta t]{\\rm Eq.(A8)}\n",
    "y_1, f_1 \\xrightarrow[\\Delta t]{\\rm Eq.(A8)}\n",
    "\\cdots\n",
    "y_i, f_i \n",
    "\\cdots\n",
    "\\xrightarrow[\\Delta t]{\\rm Eq.(A8)}\\tag{A9}\n",
    "y_N, f_N \n",
    "$$\n",
    "\n",
    "- Forward difference approximation (1st order)\n",
    "\n",
    "$$\n",
    "\\left.\\frac{dy(t)}{dt}\\right|_{t=t_i}\\simeq\\frac{y_{i+1}-y_i}{\\Delta t}\\tag{A10}\n",
    "$$"
   ]
  },
  {
   "cell_type": "markdown",
   "metadata": {
    "slideshow": {
     "slide_type": "slide"
    }
   },
   "source": [
    "## Leapfrog method\n",
    "\n",
    "- Central difference approximation\n",
    "\n",
    "$$\n",
    "\\left.\\frac{dy(t)}{dt}\\right|_{t=t_i}\\simeq\\frac{y_{i+1}-y_{i-1}}{2\\Delta t}\\tag{A11}\n",
    "$$\n",
    "\n",
    "- Difference equation, Substitute Eq.(A11) in Eq.(A1)\n",
    "\n",
    "$$\n",
    "y_{i+1} \n",
    "=y_{i-1}+\\int_{{{t}_{i-1}}}^{t_{i+1}}{}\\,d{t}'\\,f(y({t}'),{t}')\n",
    "\\simeq y_{i-1}+2\\Delta t \\,f_i \\tag{A12}\n",
    "$$\n",
    "\n",
    "- Simulation procedure $\\rightarrow$ Explicit method\n",
    "\n",
    "$$\n",
    "y_{-1}, f_0 \\xrightarrow[\\ \\ \\ 2\\Delta t\\ \\ \\ ]{\\rm Eq.(A11)}\n",
    "y_1, f_2 \\xrightarrow[2\\Delta t]{\\rm Eq.(A11)}\n",
    "\\cdots\n",
    "y_i, f_{i+1} \n",
    "\\cdots\n",
    "\\xrightarrow[2\\Delta t]{\\rm Eq.(A11)}\n",
    "y_N  \\tag{A13}\n",
    "$$\n",
    "\n",
    "$$\n",
    "y_{0}, f_1 \\xrightarrow[2\\Delta t]{\\rm Eq.(A11)}\n",
    "y_2, f_3 \\cdots\n",
    "\\xrightarrow[2\\Delta t]{\\rm Eq.(A11)}\n",
    "y_{N-1}, f_{N} \\tag{A14}\n",
    "$$"
   ]
  },
  {
   "cell_type": "markdown",
   "metadata": {
    "slideshow": {
     "slide_type": "slide"
    }
   },
   "source": [
    "## Runge-Kutta (2nd)\n",
    "\n",
    "- Difference equation\n",
    "\n",
    "$$\n",
    "y_{i+1} \n",
    "=y_i+\\int_{{{t}_{i}}}^{t_{i+1}}{}\\,d{t}'\\,f(y({t}'),{t}')\n",
    "\\simeq y_i+\\Delta t \\,f\\,'_{i+\\frac{1}{2}} \\hspace{15mm}{\\rm (Leapfrog)}\\tag{A15}\n",
    "$$\n",
    "$\\hspace{60mm}$with\n",
    "$$\n",
    "y\\,'_{i+\\frac{1}{2}} = y_i+\\frac{1}{2}\\Delta t \\,f_i , \\hspace{10mm}\n",
    "f\\,'_{i+\\frac{1}{2}}=f(y\\,'_{i+\\frac{1}{2}},t_{i+\\frac{1}{2}}) \\hspace{20mm}{\\rm (Euler)}\\tag{A16}\n",
    "$$\n",
    "\n",
    "\n",
    "- Simulation procedure $\\rightarrow$ Explicit method\n",
    "\n",
    "$$\n",
    "y_{0}, f_{0} \\xrightarrow[\\ \\ \\ \\frac{1}{2}\\Delta t\\ \\ \\ ]{\\rm Eq.(A16)}\n",
    "y\\,'_{\\frac{1}{2}}, f\\,'_{\\frac{1}{2}}\n",
    "\\hspace{15mm}\n",
    "y_i, f_{i} \n",
    "\\xrightarrow[\\frac{1}{2}\\Delta t]{\\rm Eq.(A16)}\n",
    "y\\,'_{i+\\frac{1}{2}}, f\\,'_{i+\\frac{1}{2}} \n",
    "\\hspace{60mm} \n",
    "$$\n",
    "$$\n",
    "y_{1}, f_{1} \\xrightarrow[\\ \\ \\ \\frac{1}{2}\\Delta t\\ \\ \\ ]{\\rm Eq.(A16)}\n",
    "y\\,'_{1+\\frac{1}{2}}, f\\,'_{1+\\frac{1}{2}} \n",
    "\\hspace{8mm} \\cdots\n",
    "\\xrightarrow[\\frac{1}{2}\\Delta t]{\\rm Eq.(A16)}\n",
    "y\\,'_{N-\\frac{1}{2}}, f\\,'_{N-\\frac{1}{2}} \\hspace{20mm}\\ \n",
    "$$\n",
    "\n",
    "$$\n",
    "y_{0}, f\\,'_{\\frac{1}{2}} \\xrightarrow[\\ \\ \\ \\Delta t\\ \\ \\ ]{\\rm Eq.(A15)}\n",
    "y_1, f\\,'_{1+\\frac{1}{2}} \\xrightarrow[\\Delta t]{\\rm Eq.(A15)}\n",
    "\\cdots\n",
    "y_i, f\\,'_{i+\\frac{1}{2}} \n",
    "\\cdots\n",
    "\\xrightarrow[\\Delta t]{\\rm Eq.(A15)}\n",
    "y_N  \\tag{A17}\n",
    "$$"
   ]
  },
  {
   "cell_type": "markdown",
   "metadata": {
    "slideshow": {
     "slide_type": "slide"
    }
   },
   "source": [
    "## Runge-Kutta (4th)\n",
    "\n",
    "- Difference equation\n",
    "\n",
    "$$\n",
    "y_{i+1} \n",
    "=y_i+\\int_{{{t}_{i}}}^{t_{i+1}}{}\\,d{t}'\\,f(y({t}'),{t}')\n",
    "$$\n",
    "$$\n",
    "\\hspace{35mm}\\simeq y_i+\\frac{1}{6}\\Delta t \\left[\n",
    "f_i+2f\\,'_{i+\\frac{1}{2}}+2f\\,''_{i+\\frac{1}{2}}+f\\,'''_{i+1}\n",
    "\\right]\\tag{A18}\n",
    "$$\n",
    "$\\hspace{40mm}$with\n",
    "\n",
    "$$\n",
    "y\\,'_{i+\\frac{1}{2}}=y_i+\\frac{\\Delta t}{2}f_i,\\hspace{20mm}\n",
    "f\\,'_{i+\\frac{1}{2}}= f(y\\,'_{i+\\frac{1}{2}},t_{i+\\frac{1}{2}}) \\tag{A19}\n",
    "$$\n",
    "\n",
    "$$\n",
    "y\\,''_{i+\\frac{1}{2}}=y_i+\\frac{\\Delta t}{2}f\\,'_{i+\\frac{1}{2}},\\hspace{20mm}\n",
    "f\\,''_{i+\\frac{1}{2}}= f(y\\,''_{i+\\frac{1}{2}},t_{i+\\frac{1}{2}}) \\tag{A20}\n",
    "$$\n",
    "\n",
    "$$\n",
    "y\\,'''_{i+1}=y_i+{\\Delta t}f\\,''_{i+\\frac{1}{2}},\\hspace{20mm}\n",
    "f\\,'''_{i+1} = f(y\\,'''_{i+1},t_{i+1}) \\tag{A21}\n",
    "$$\n"
   ]
  },
  {
   "cell_type": "markdown",
   "metadata": {
    "slideshow": {
     "slide_type": "slide"
    }
   },
   "source": [
    "# 3.3. Try the Euler method using Python"
   ]
  },
  {
   "cell_type": "markdown",
   "metadata": {},
   "source": [
    "## A very simple problem\n",
    "\n",
    "- Numerically solve the following differential equation and determine $y(t)$ for $0\\le t\\le 10$ with the initial condition $y=1$ at $t=0$. Then compare it with the analytical solution $y=\\exp(-t)$.\n",
    "\n",
    "$$\n",
    "\\frac{dy(t)}{dt}=-y(t) \\tag{A22}\n",
    "$$"
   ]
  },
  {
   "cell_type": "code",
   "execution_count": 1,
   "metadata": {
    "slideshow": {
     "slide_type": "-"
    }
   },
   "outputs": [],
   "source": [
    "%matplotlib inline\n",
    "import numpy as np              # import numpy library as np\n",
    "import matplotlib.pyplot as plt # import pyplot library as plt \n",
    "plt.style.use('ggplot')         # use \"ggplot\" style for graphs"
   ]
  },
  {
   "cell_type": "code",
   "execution_count": 2,
   "metadata": {
    "slideshow": {
     "slide_type": "slide"
    }
   },
   "outputs": [
    {
     "data": {
      "image/png": "[encoded data removed]",
      "text/plain": [
       "<Figure size 432x288 with 1 Axes>"
      ]
     },
     "metadata": {},
     "output_type": "display_data"
    }
   ],
   "source": [
    "# Euler method\n",
    "dt, tmin, tmax = 0.1, 0.0, 10.0 # set \\Delta t,t0,tmax\n",
    "step=int((tmax-tmin)/dt)\n",
    "# create array t from tmin to tmax with equal interval dt \n",
    "t  = np.linspace(tmin,tmax,step)\n",
    "y  = np.zeros(step) # initialize array y as all 0\n",
    "ya = np.exp(-t) # analytical solution y=exp(-t)\n",
    "plt.plot(t,ya,label='Exact',lw=5) # plot y vs. t (analytical)\n",
    "y[0]=1.0 # initial condition\n",
    "for i in range(step-1):\n",
    "    y[i+1]=y[i]-dt*y[i] # Euler method Eq.(A8)\n",
    "plt.plot(t,y,ls='--',lw=3,label='Numerical') # plot y vs t (numerical)\n",
    "plt.plot(t,y/ya,lw=3,label='Ratio') # plot y/ya vs. t\n",
    "plt.legend() #display legends\n",
    "plt.show() #display plots"
   ]
  }
 ],
 "metadata": {
  "anaconda-cloud": {},
  "celltoolbar": "Slideshow",
  "kernelspec": {
   "display_name": "Python 3",
   "language": "python",
   "name": "python3"
  },
  "language_info": {
   "codemirror_mode": {
    "name": "ipython",
    "version": 3
   },
   "file_extension": ".py",
   "mimetype": "text/x-python",
   "name": "python",
   "nbconvert_exporter": "python",
   "pygments_lexer": "ipython3",
   "version": "3.8.5"
  }
 },
 "nbformat": 4,
 "nbformat_minor": 1
}
